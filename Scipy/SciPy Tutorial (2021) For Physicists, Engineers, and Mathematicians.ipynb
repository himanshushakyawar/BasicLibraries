{
 "cells": [
  {
   "cell_type": "markdown",
   "id": "fc8d6962",
   "metadata": {},
   "source": [
    "Tutorial Link : https://www.youtube.com/watch?v=jmX4FOUEfgU\n",
    "\n",
    "Github:https://github.com/lukepolson/youtube_channel/blob/main/Python%20Tutorial%20Series/scipy_essentials.ipynb"
   ]
  },
  {
   "cell_type": "code",
   "execution_count": 4,
   "id": "ad79e1e4",
   "metadata": {},
   "outputs": [],
   "source": [
    "import numpy as np\n",
    "import matplotlib.pyplot as plt\n",
    "import scipy "
   ]
  },
  {
   "cell_type": "markdown",
   "id": "e28297d2",
   "metadata": {},
   "source": [
    "<h3>Basic"
   ]
  },
  {
   "cell_type": "markdown",
   "id": "5cefc51c",
   "metadata": {},
   "source": [
    "<h>"
   ]
  },
  {
   "cell_type": "markdown",
   "id": "494d0d19",
   "metadata": {},
   "source": [
    "<h3>Optimization"
   ]
  },
  {
   "cell_type": "code",
   "execution_count": 5,
   "id": "48772565",
   "metadata": {},
   "outputs": [],
   "source": [
    "from scipy.optimize import minimize"
   ]
  },
  {
   "cell_type": "markdown",
   "id": "41b730a2",
   "metadata": {},
   "source": [
    "Minimize $f(x) = (x-3)^2$\n",
    "\n"
   ]
  },
  {
   "cell_type": "code",
   "execution_count": 6,
   "id": "12167d12",
   "metadata": {},
   "outputs": [],
   "source": [
    "def f(x):\n",
    "    return(x-3)**2\n",
    "\n",
    "res = minimize(f,2)"
   ]
  },
  {
   "cell_type": "code",
   "execution_count": 7,
   "id": "3850dbc4",
   "metadata": {},
   "outputs": [
    {
     "data": {
      "text/plain": [
       "      fun: 5.551437397369767e-17\n",
       " hess_inv: array([[0.5]])\n",
       "      jac: array([-4.3254289e-13])\n",
       "  message: 'Optimization terminated successfully.'\n",
       "     nfev: 6\n",
       "      nit: 2\n",
       "     njev: 3\n",
       "   status: 0\n",
       "  success: True\n",
       "        x: array([2.99999999])"
      ]
     },
     "execution_count": 7,
     "metadata": {},
     "output_type": "execute_result"
    }
   ],
   "source": [
    "res"
   ]
  },
  {
   "cell_type": "code",
   "execution_count": 8,
   "id": "4d58088a",
   "metadata": {},
   "outputs": [
    {
     "data": {
      "text/plain": [
       "array([2.99999999])"
      ]
     },
     "execution_count": 8,
     "metadata": {},
     "output_type": "execute_result"
    }
   ],
   "source": [
    "res.x #Value of x at which the function is minimun"
   ]
  },
  {
   "cell_type": "code",
   "execution_count": null,
   "id": "7763b042",
   "metadata": {},
   "outputs": [],
   "source": []
  },
  {
   "cell_type": "markdown",
   "id": "c87dec18",
   "metadata": {},
   "source": [
    "Minimize $f(x, y) = (x-1)^2 + (y-2.5)^2$ subject to\n",
    "\n",
    "$$x-2y+2 \\geq 0 $$$$-x-2y+6 \\geq 0$$$$-x + 2y + 2 \\geq 0$$$$x \\geq 0 $$$$y \\geq 0 $$\n",
    "drawing\n",
    "2D function takes in vector $x$\n",
    "Constraints must be specified as $g_i(x) \\geq 0$\n",
    "Bounds specified as rectangular"
   ]
  },
  {
   "cell_type": "code",
   "execution_count": 9,
   "id": "e2e7c99d",
   "metadata": {},
   "outputs": [],
   "source": [
    "f = lambda x : (x[0]-1)**2 + (x[1] - 2.5)**2\n",
    "cons = ({'type':'ineq', 'fun': lambda x: x[0]-2*x[1] +2},\n",
    "       {'type':'ineq', 'fun': lambda x: -x[0]-2*x[1] +6},\n",
    "       {'type':'ineq', 'fun': lambda x: -x[0]+2*x[1] +2})\n",
    "bnds=((0,None),(0,None))\n",
    "res = minimize(f,(2,0),bounds=bnds, constraints=cons)"
   ]
  },
  {
   "cell_type": "code",
   "execution_count": 10,
   "id": "55be15a2",
   "metadata": {},
   "outputs": [
    {
     "data": {
      "text/plain": [
       "     fun: 0.8000000011920985\n",
       "     jac: array([ 0.80000002, -1.59999999])\n",
       " message: 'Optimization terminated successfully'\n",
       "    nfev: 10\n",
       "     nit: 3\n",
       "    njev: 3\n",
       "  status: 0\n",
       " success: True\n",
       "       x: array([1.4, 1.7])"
      ]
     },
     "execution_count": 10,
     "metadata": {},
     "output_type": "execute_result"
    }
   ],
   "source": [
    "res"
   ]
  },
  {
   "cell_type": "code",
   "execution_count": 11,
   "id": "bc87af6f",
   "metadata": {},
   "outputs": [
    {
     "data": {
      "text/plain": [
       "array([1.4, 1.7])"
      ]
     },
     "execution_count": 11,
     "metadata": {},
     "output_type": "execute_result"
    }
   ],
   "source": [
    "res.x"
   ]
  },
  {
   "cell_type": "code",
   "execution_count": 14,
   "id": "e5554da9",
   "metadata": {},
   "outputs": [],
   "source": [
    "# minimize?"
   ]
  },
  {
   "cell_type": "markdown",
   "id": "51145eed",
   "metadata": {},
   "source": [
    "<h3>Interpolation</h3> <p>means knowing the shape of function within our given range"
   ]
  },
  {
   "cell_type": "code",
   "execution_count": 15,
   "id": "20d932fd",
   "metadata": {},
   "outputs": [
    {
     "data": {
      "text/plain": [
       "<matplotlib.collections.PathCollection at 0x215fe6528e0>"
      ]
     },
     "execution_count": 15,
     "metadata": {},
     "output_type": "execute_result"
    },
    {
     "data": {
      "image/png": "[encoded data removed]",
      "text/plain": [
       "<Figure size 432x288 with 1 Axes>"
      ]
     },
     "metadata": {
      "needs_background": "light"
     },
     "output_type": "display_data"
    }
   ],
   "source": [
    "x = np.linspace(0,10,10)\n",
    "y=x**2*np.sin(x)\n",
    "plt.scatter(x,y)"
   ]
  },
  {
   "cell_type": "code",
   "execution_count": 16,
   "id": "778ca1b2",
   "metadata": {},
   "outputs": [],
   "source": [
    "from scipy.interpolate import interp1d"
   ]
  },
  {
   "cell_type": "code",
   "execution_count": 20,
   "id": "d1c09a42",
   "metadata": {},
   "outputs": [],
   "source": [
    "f = interp1d(x,y, kind='cubic')\n",
    "x_dense = np.linspace(0,10,100)\n",
    "y_dense = f(x_dense)"
   ]
  },
  {
   "cell_type": "code",
   "execution_count": 21,
   "id": "e10a6191",
   "metadata": {},
   "outputs": [
    {
     "data": {
      "text/plain": [
       "[<matplotlib.lines.Line2D at 0x215febc0070>]"
      ]
     },
     "execution_count": 21,
     "metadata": {},
     "output_type": "execute_result"
    },
    {
     "data": {
      "image/png": "[encoded data removed]",
      "text/plain": [
       "<Figure size 432x288 with 1 Axes>"
      ]
     },
     "metadata": {
      "needs_background": "light"
     },
     "output_type": "display_data"
    }
   ],
   "source": [
    "plt.plot(x_dense,y_dense)"
   ]
  },
  {
   "cell_type": "markdown",
   "id": "3fab2bd0",
   "metadata": {},
   "source": [
    "<h3>Curve Fitting"
   ]
  },
  {
   "cell_type": "code",
   "execution_count": 22,
   "id": "dba7faf1",
   "metadata": {},
   "outputs": [],
   "source": [
    "x_data = np.linspace(0,10,10)\n",
    "y_data = 3*x_data**2+2"
   ]
  },
  {
   "cell_type": "code",
   "execution_count": 23,
   "id": "6d820d07",
   "metadata": {},
   "outputs": [
    {
     "data": {
      "text/plain": [
       "<matplotlib.collections.PathCollection at 0x215ff3d80a0>"
      ]
     },
     "execution_count": 23,
     "metadata": {},
     "output_type": "execute_result"
    },
    {
     "data": {
      "image/png": "[encoded data removed]",
      "text/plain": [
       "<Figure size 432x288 with 1 Axes>"
      ]
     },
     "metadata": {
      "needs_background": "light"
     },
     "output_type": "display_data"
    }
   ],
   "source": [
    "plt.scatter(x_data,y_data)"
   ]
  },
  {
   "cell_type": "markdown",
   "id": "02893a37",
   "metadata": {},
   "source": [
    "<p>\n",
    "    want to fit the data to the curve $y = ax^2 +b.$ The main goal here is determine the value of a and b"
   ]
  },
  {
   "cell_type": "code",
   "execution_count": 24,
   "id": "d338f575",
   "metadata": {},
   "outputs": [],
   "source": [
    "from scipy.optimize import curve_fit\n",
    "\n",
    "def func(x,a,b):\n",
    "    return a*x**2 +b\n",
    "\n",
    "popt, pcov = curve_fit(func, x_data,y_data, p0=(1,1))"
   ]
  },
  {
   "cell_type": "code",
   "execution_count": 25,
   "id": "d036d573",
   "metadata": {},
   "outputs": [
    {
     "data": {
      "text/plain": [
       "array([3., 2.])"
      ]
     },
     "execution_count": 25,
     "metadata": {},
     "output_type": "execute_result"
    }
   ],
   "source": [
    "popt"
   ]
  },
  {
   "cell_type": "markdown",
   "id": "56e63017",
   "metadata": {},
   "source": [
    "The equation for spring motion is $y(t) = A\\cos(\\omega t+\\phi)$. Want to find the natural frequency of oscillation $\\omega$ for the spring. You collect the data"
   ]
  },
  {
   "cell_type": "code",
   "execution_count": 26,
   "id": "04f50ac5",
   "metadata": {},
   "outputs": [],
   "source": [
    "\n",
    "t_data = np.array([ 0.   ,  0.34482759,  0.68965517,  1.03448276,  1.37931034,\n",
    "        1.72413793,  2.06896552,  2.4137931 ,  2.75862069,  3.10344828,\n",
    "        3.44827586,  3.79310345,  4.13793103,  4.48275862,  4.82758621,\n",
    "        5.17241379,  5.51724138,  5.86206897,  6.20689655,  6.55172414,\n",
    "        6.89655172,  7.24137931,  7.5862069 ,  7.93103448,  8.27586207,\n",
    "        8.62068966,  8.96551724,  9.31034483,  9.65517241, 10.        ])\n",
    "y_data = np.array([ 4.3303953 ,  1.61137995, -2.15418696, -3.90137249, -1.67259042,\n",
    "        2.16884383,  3.86635998,  1.85194506, -1.8489224 , -3.96560495,\n",
    "       -2.13385255,  1.59425817,  4.06145238,  1.89300594, -1.76870297,\n",
    "       -4.26791226, -2.46874133,  1.37019912,  4.24945607,  2.27038039,\n",
    "       -1.50299303, -3.46774049, -2.50845488,  1.20022052,  3.81633703,\n",
    "        2.91511556, -1.24569189, -3.72716214, -2.54549857,  0.87262548])"
   ]
  },
  {
   "cell_type": "code",
   "execution_count": 27,
   "id": "899e0b94",
   "metadata": {},
   "outputs": [
    {
     "data": {
      "text/plain": [
       "[<matplotlib.lines.Line2D at 0x215a1097c40>]"
      ]
     },
     "execution_count": 27,
     "metadata": {},
     "output_type": "execute_result"
    },
    {
     "data": {
      "image/png": "[encoded data removed]",
      "text/plain": [
       "<Figure size 432x288 with 1 Axes>"
      ]
     },
     "metadata": {
      "needs_background": "light"
     },
     "output_type": "display_data"
    }
   ],
   "source": [
    "plt.plot(t_data,y_data,'o--')"
   ]
  },
  {
   "cell_type": "markdown",
   "id": "db1b6ea4",
   "metadata": {},
   "source": [
    "\n",
    "$\\omega = 2 \\pi f$, $f=1/T$, and $T \\approx 2$ seconds. Thus good initial guess is\n",
    "\n",
    "$\\omega = 2 \\pi (1/2) = \\pi$\n",
    "$A=4$\n",
    "$\\phi = 0$"
   ]
  },
  {
   "cell_type": "code",
   "execution_count": 30,
   "id": "b3067c3f",
   "metadata": {},
   "outputs": [],
   "source": [
    "def func(x,A,w,phi):\n",
    "    return A*np.cos(w*x +phi)\n",
    "popt, pcov = curve_fit(func, t_data,y_data,p0=(4,np.pi,0))"
   ]
  },
  {
   "cell_type": "code",
   "execution_count": 31,
   "id": "f9ea96ea",
   "metadata": {},
   "outputs": [
    {
     "data": {
      "text/plain": [
       "array([3.94836219, 2.99899521, 0.10411352])"
      ]
     },
     "execution_count": 31,
     "metadata": {},
     "output_type": "execute_result"
    }
   ],
   "source": [
    "popt"
   ]
  },
  {
   "cell_type": "code",
   "execution_count": 32,
   "id": "b03d64f3",
   "metadata": {},
   "outputs": [],
   "source": [
    "A,w,phi = popt"
   ]
  },
  {
   "cell_type": "code",
   "execution_count": 36,
   "id": "08d5e569",
   "metadata": {},
   "outputs": [
    {
     "data": {
      "text/plain": [
       "2.998995205451252"
      ]
     },
     "execution_count": 36,
     "metadata": {},
     "output_type": "execute_result"
    }
   ],
   "source": [
    "w"
   ]
  },
  {
   "cell_type": "code",
   "execution_count": 37,
   "id": "571b8970",
   "metadata": {},
   "outputs": [
    {
     "data": {
      "text/plain": [
       "array([[ 2.61882717e-03, -4.94131505e-06,  3.47404558e-05],\n",
       "       [-4.94131505e-06,  1.85637335e-05, -9.60755036e-05],\n",
       "       [ 3.47404558e-05, -9.60755036e-05,  6.63423791e-04]])"
      ]
     },
     "execution_count": 37,
     "metadata": {},
     "output_type": "execute_result"
    }
   ],
   "source": [
    "pcov #Covariance matrix"
   ]
  },
  {
   "cell_type": "code",
   "execution_count": 38,
   "id": "199c9a37",
   "metadata": {},
   "outputs": [
    {
     "data": {
      "text/plain": [
       "array([2.61882717e-03, 1.85637335e-05, 6.63423791e-04])"
      ]
     },
     "execution_count": 38,
     "metadata": {},
     "output_type": "execute_result"
    }
   ],
   "source": [
    "np.diag(pcov) #Show Variance A, w, phi"
   ]
  },
  {
   "cell_type": "code",
   "execution_count": 40,
   "id": "ebda48a1",
   "metadata": {},
   "outputs": [
    {
     "data": {
      "text/plain": [
       "array([0.05117448, 0.00430857, 0.02575701])"
      ]
     },
     "execution_count": 40,
     "metadata": {},
     "output_type": "execute_result"
    }
   ],
   "source": [
    "np.sqrt(np.diag(pcov)) #show error of A ,w, phi"
   ]
  },
  {
   "cell_type": "code",
   "execution_count": 34,
   "id": "6e395b1f",
   "metadata": {},
   "outputs": [],
   "source": [
    "t = np.linspace(0,10,100)\n",
    "y=func(t,A,w,phi)"
   ]
  },
  {
   "cell_type": "code",
   "execution_count": 35,
   "id": "e2665f20",
   "metadata": {},
   "outputs": [
    {
     "data": {
      "text/plain": [
       "[<matplotlib.lines.Line2D at 0x215a17845e0>]"
      ]
     },
     "execution_count": 35,
     "metadata": {},
     "output_type": "execute_result"
    },
    {
     "data": {
      "image/png": "[encoded data removed]",
      "text/plain": [
       "<Figure size 432x288 with 1 Axes>"
      ]
     },
     "metadata": {
      "needs_background": "light"
     },
     "output_type": "display_data"
    }
   ],
   "source": [
    "plt.scatter(t_data,y_data)\n",
    "plt.plot(t,y)"
   ]
  },
  {
   "cell_type": "markdown",
   "id": "09d800fc",
   "metadata": {},
   "source": [
    "The parameters"
   ]
  },
  {
   "cell_type": "code",
   "execution_count": 41,
   "id": "fc9cc775",
   "metadata": {},
   "outputs": [
    {
     "data": {
      "text/plain": [
       "array([3.94836219, 2.99899521, 0.10411352])"
      ]
     },
     "execution_count": 41,
     "metadata": {},
     "output_type": "execute_result"
    }
   ],
   "source": [
    "popt"
   ]
  },
  {
   "cell_type": "code",
   "execution_count": 42,
   "id": "73bd6402",
   "metadata": {},
   "outputs": [
    {
     "data": {
      "text/plain": [
       "array([0.05117448, 0.00430857, 0.02575701])"
      ]
     },
     "execution_count": 42,
     "metadata": {},
     "output_type": "execute_result"
    }
   ],
   "source": [
    "np.sqrt(np.diag(pcov))"
   ]
  },
  {
   "cell_type": "markdown",
   "id": "190c1e11",
   "metadata": {},
   "source": [
    "<h3>Special Function</h3>\n",
    "<p>Legendre Polynomials $P_l(x)$: satisfy $(1-x^2)y'' -2xy'+l(l+1)y = 0$\n",
    "\n",
    "The angular component of the spherical Schrodinger Equation which permits non-infinite solutions"
   ]
  },
  {
   "cell_type": "code",
   "execution_count": 43,
   "id": "c9b52ad5",
   "metadata": {},
   "outputs": [
    {
     "data": {
      "image/png": "[encoded data removed]",
      "text/plain": [
       "<Figure size 432x288 with 1 Axes>"
      ]
     },
     "metadata": {
      "needs_background": "light"
     },
     "output_type": "display_data"
    }
   ],
   "source": [
    "from scipy.special import legendre\n",
    "x = np.linspace(0,1,100)\n",
    "plt.plot(x,legendre(6)(x))\n",
    "plt.show()"
   ]
  },
  {
   "cell_type": "code",
   "execution_count": 44,
   "id": "43b4cefa",
   "metadata": {},
   "outputs": [
    {
     "data": {
      "text/plain": [
       "poly1d([ 1.44375000e+01,  0.00000000e+00, -1.96875000e+01,  1.60288449e-15,\n",
       "        6.56250000e+00,  0.00000000e+00, -3.12500000e-01])"
      ]
     },
     "execution_count": 44,
     "metadata": {},
     "output_type": "execute_result"
    }
   ],
   "source": [
    "legendre(6)"
   ]
  },
  {
   "cell_type": "markdown",
   "id": "efddda51",
   "metadata": {},
   "source": [
    "\n",
    "Bessel functions $J_{\\alpha}(x)$: satisfy $x^2 y'' + xy' + (x^2-\\alpha^2)y = 0$\n",
    "\n",
    "Laplace's Equation in Polar Coordinates"
   ]
  },
  {
   "cell_type": "code",
   "execution_count": 45,
   "id": "db1a626e",
   "metadata": {},
   "outputs": [
    {
     "data": {
      "image/png": "[encoded data removed]",
      "text/plain": [
       "<Figure size 432x288 with 1 Axes>"
      ]
     },
     "metadata": {
      "needs_background": "light"
     },
     "output_type": "display_data"
    }
   ],
   "source": [
    "from scipy.special import jv\n",
    "x = np.linspace(0,10,100)\n",
    "plt.plot(x,jv(3,x))\n",
    "plt.show()"
   ]
  },
  {
   "cell_type": "markdown",
   "id": "138bb72e",
   "metadata": {},
   "source": [
    "<h2> Calculus"
   ]
  },
  {
   "cell_type": "markdown",
   "id": "cb00bfd5",
   "metadata": {},
   "source": [
    "<h2> Differentiation"
   ]
  },
  {
   "cell_type": "code",
   "execution_count": 46,
   "id": "e4321b94",
   "metadata": {},
   "outputs": [],
   "source": [
    "from scipy.misc import derivative"
   ]
  },
  {
   "cell_type": "code",
   "execution_count": 47,
   "id": "5750d1ab",
   "metadata": {},
   "outputs": [],
   "source": [
    "def f(x):\n",
    "    return x**2*np.sin(2*x)*np.exp(-x)\n",
    "x = np.linspace(0,1,100)"
   ]
  },
  {
   "cell_type": "code",
   "execution_count": 49,
   "id": "a65c4dcd",
   "metadata": {},
   "outputs": [
    {
     "data": {
      "text/plain": [
       "array([2.00000000e-12, 6.03920829e-04, 2.38251311e-03, 5.28577629e-03,\n",
       "       9.26344114e-03, 1.42650411e-02, 2.02399819e-02, 2.71376096e-02,\n",
       "       3.49072761e-02, 4.34984041e-02, 5.28605490e-02, 6.29434594e-02,\n",
       "       7.36971364e-02, 8.50718897e-02, 9.70183930e-02, 1.09487737e-01,\n",
       "       1.22431481e-01, 1.35801703e-01, 1.49551043e-01, 1.63632755e-01,\n",
       "       1.78000746e-01, 1.92609622e-01, 2.07414723e-01, 2.22372164e-01,\n",
       "       2.37438874e-01, 2.52572626e-01, 2.67732071e-01, 2.82876773e-01,\n",
       "       2.97967232e-01, 3.12964916e-01, 3.27832284e-01, 3.42532814e-01,\n",
       "       3.57031020e-01, 3.71292476e-01, 3.85283835e-01, 3.98972845e-01,\n",
       "       4.12328366e-01, 4.25320382e-01, 4.37920015e-01, 4.50099539e-01,\n",
       "       4.61832383e-01, 4.73093145e-01, 4.83857594e-01, 4.94102681e-01,\n",
       "       5.03806534e-01, 5.12948470e-01, 5.21508990e-01, 5.29469779e-01,\n",
       "       5.36813708e-01, 5.43524827e-01, 5.49588364e-01, 5.54990719e-01,\n",
       "       5.59719457e-01, 5.63763301e-01, 5.67112124e-01, 5.69756939e-01,\n",
       "       5.71689887e-01, 5.72904229e-01, 5.73394330e-01, 5.73155647e-01,\n",
       "       5.72184714e-01, 5.70479129e-01, 5.68037535e-01, 5.64859605e-01,\n",
       "       5.60946025e-01, 5.56298473e-01, 5.50919604e-01, 5.44813027e-01,\n",
       "       5.37983288e-01, 5.30435846e-01, 5.22177054e-01, 5.13214136e-01,\n",
       "       5.03555166e-01, 4.93209043e-01, 4.82185471e-01, 4.70494932e-01,\n",
       "       4.58148665e-01, 4.45158639e-01, 4.31537532e-01, 4.17298703e-01,\n",
       "       4.02456166e-01, 3.87024571e-01, 3.71019170e-01, 3.54455799e-01,\n",
       "       3.37350847e-01, 3.19721232e-01, 3.01584376e-01, 2.82958176e-01,\n",
       "       2.63860984e-01, 2.44311574e-01, 2.24329120e-01, 2.03933168e-01,\n",
       "       1.83143614e-01, 1.61980674e-01, 1.40464859e-01, 1.18616951e-01,\n",
       "       9.64579793e-02, 7.40091897e-02, 5.12920252e-02, 2.83280979e-02])"
      ]
     },
     "execution_count": 49,
     "metadata": {},
     "output_type": "execute_result"
    }
   ],
   "source": [
    "derivative(f,x, dx=1e-6)"
   ]
  },
  {
   "cell_type": "code",
   "execution_count": 52,
   "id": "411a25ab",
   "metadata": {},
   "outputs": [
    {
     "data": {
      "text/plain": [
       "[<matplotlib.lines.Line2D at 0x215a1ec7ac0>]"
      ]
     },
     "execution_count": 52,
     "metadata": {},
     "output_type": "execute_result"
    },
    {
     "data": {
      "image/png": "[encoded data removed]",
      "text/plain": [
       "<Figure size 432x288 with 1 Axes>"
      ]
     },
     "metadata": {
      "needs_background": "light"
     },
     "output_type": "display_data"
    }
   ],
   "source": [
    "plt.plot(x,f(x))\n",
    "plt.plot(x,derivative(f,x, dx=1e-6))\n",
    "plt.plot(x,derivative(f,x, dx=1e-6, n=2))\n"
   ]
  },
  {
   "cell_type": "markdown",
   "id": "8e5b224d",
   "metadata": {},
   "source": [
    "<h3>Integration"
   ]
  },
  {
   "cell_type": "markdown",
   "id": "bc662c56",
   "metadata": {},
   "source": [
    "Single integrals\n",
    "\n",
    "$$ \\int_0^{1} x^2 \\sin(2x) e^{-x} dx $$"
   ]
  },
  {
   "cell_type": "code",
   "execution_count": 55,
   "id": "b8d759f2",
   "metadata": {},
   "outputs": [],
   "source": [
    "from scipy.integrate import quad\n",
    "integrand = lambda x:x**2*np.sin(x)*np.exp(-x)\n",
    "integral, integral_error = quad(integrand,0,1) #0,1 are limits of integral "
   ]
  },
  {
   "cell_type": "code",
   "execution_count": 56,
   "id": "31c286c5",
   "metadata": {},
   "outputs": [
    {
     "data": {
      "text/plain": [
       "1.1376208786903388e-15"
      ]
     },
     "execution_count": 56,
     "metadata": {},
     "output_type": "execute_result"
    }
   ],
   "source": [
    "integral_error"
   ]
  },
  {
   "cell_type": "markdown",
   "id": "80af231e",
   "metadata": {},
   "source": [
    "Double integrals\n",
    "\n",
    "$$ \\int_{0}^{1} \\int_{-x}^{x^2} \\sin(x+y^2) dy dx $$"
   ]
  },
  {
   "cell_type": "code",
   "execution_count": 60,
   "id": "ec539db5",
   "metadata": {},
   "outputs": [],
   "source": [
    "from scipy.integrate import dblquad\n",
    "integrand = lambda x,y: np.sin(x+y**2)\n",
    "lwr_y = lambda x:-x\n",
    "upr_y = lambda x:x**2\n",
    "integral, integral_error = dblquad(integrand,0,1,lwr_y,upr_y)"
   ]
  },
  {
   "cell_type": "code",
   "execution_count": 62,
   "id": "6e7f5529",
   "metadata": {},
   "outputs": [
    {
     "data": {
      "text/plain": [
       "1.5634600713498928e-14"
      ]
     },
     "execution_count": 62,
     "metadata": {},
     "output_type": "execute_result"
    }
   ],
   "source": [
    "integral_error"
   ]
  },
  {
   "cell_type": "markdown",
   "id": "6d0a99f6",
   "metadata": {},
   "source": [
    "<h3> Differential Equation</h3>\n",
    "\n",
    "First Order ODEs\n",
    "\n",
    "Air friction while falling\n",
    "\n",
    "$$ v' - \\alpha v^2 + \\beta = 0 \\hspace{10mm} v(0) = 0$$"
   ]
  },
  {
   "cell_type": "code",
   "execution_count": 60,
   "id": "74d8b015",
   "metadata": {},
   "outputs": [],
   "source": [
    "from scipy.integrate import odeint"
   ]
  },
  {
   "cell_type": "markdown",
   "id": "dd7f75a0",
   "metadata": {},
   "source": [
    "All inofrmation about differential equation"
   ]
  },
  {
   "cell_type": "code",
   "execution_count": 70,
   "id": "1211dc2e",
   "metadata": {},
   "outputs": [],
   "source": [
    "def dvdt(v,t):\n",
    "    return 3*v**2-5\n",
    "v0 = 0"
   ]
  },
  {
   "cell_type": "markdown",
   "id": "8aee1a1f",
   "metadata": {},
   "source": [
    "Solve dufferential equation"
   ]
  },
  {
   "cell_type": "code",
   "execution_count": 71,
   "id": "1091583f",
   "metadata": {},
   "outputs": [],
   "source": [
    "t = np.linspace(0,1,100)\n",
    "sol = odeint(dvdt, v0, t)"
   ]
  },
  {
   "cell_type": "code",
   "execution_count": 72,
   "id": "6161dad2",
   "metadata": {},
   "outputs": [
    {
     "data": {
      "text/plain": [
       "array([ 0.        , -0.05047933, -0.10080451, -0.15082334, -0.20038726,\n",
       "       -0.24935318, -0.29758502, -0.34495519, -0.39134576, -0.43664948,\n",
       "       -0.48077056, -0.52362515, -0.56514164, -0.60526086, -0.6439356 ,\n",
       "       -0.68113064, -0.71682205, -0.75099661, -0.78365109, -0.8147914 ,\n",
       "       -0.84443176, -0.87259378, -0.89930556, -0.92460079, -0.94851787,\n",
       "       -0.97109913, -0.99239002, -1.01243837, -1.03129376, -1.04900692,\n",
       "       -1.06562918, -1.081212  , -1.0958066 , -1.10946355, -1.12223249,\n",
       "       -1.13416195, -1.14529906, -1.15568941, -1.16537698, -1.17440397,\n",
       "       -1.18281086, -1.19063623, -1.19791686, -1.20468768, -1.21098179,\n",
       "       -1.21683053, -1.22226349, -1.22730856, -1.23199199, -1.23633849,\n",
       "       -1.24037122, -1.24411192, -1.24758094, -1.25079735, -1.25377896,\n",
       "       -1.25654241, -1.25910322, -1.2614759 , -1.26367394, -1.26570992,\n",
       "       -1.26759557, -1.26934179, -1.27095869, -1.27245574, -1.27384168,\n",
       "       -1.27512464, -1.2763122 , -1.27741137, -1.27842865, -1.27937009,\n",
       "       -1.28024128, -1.28104744, -1.28179338, -1.28248356, -1.28312213,\n",
       "       -1.28371292, -1.2842595 , -1.28476514, -1.2852329 , -1.28566562,\n",
       "       -1.2860659 , -1.28643616, -1.28677865, -1.28709545, -1.28738847,\n",
       "       -1.28765951, -1.28791021, -1.28814208, -1.28835653, -1.28855487,\n",
       "       -1.28873831, -1.28890797, -1.28906488, -1.28920999, -1.2893442 ,\n",
       "       -1.28946833, -1.28958312, -1.28968929, -1.28978746, -1.28987826])"
      ]
     },
     "execution_count": 72,
     "metadata": {},
     "output_type": "execute_result"
    }
   ],
   "source": [
    "sol.T[0] # .T for transpose, [0] for accessing one dimension"
   ]
  },
  {
   "cell_type": "code",
   "execution_count": 73,
   "id": "3962ca98",
   "metadata": {},
   "outputs": [
    {
     "data": {
      "text/plain": [
       "[<matplotlib.lines.Line2D at 0x237797d39a0>]"
      ]
     },
     "execution_count": 73,
     "metadata": {},
     "output_type": "execute_result"
    },
    {
     "data": {
      "image/png": "[encoded data removed]",
      "text/plain": [
       "<Figure size 432x288 with 1 Axes>"
      ]
     },
     "metadata": {
      "needs_background": "light"
     },
     "output_type": "display_data"
    }
   ],
   "source": [
    "plt.plot(sol,t)"
   ]
  },
  {
   "cell_type": "markdown",
   "id": "37f78cb8",
   "metadata": {},
   "source": [
    "<b>Coupled first order ODEs</b>\n",
    "\n",
    "$$ y_1' = y_1 + y_2^2 + 3x \\hspace{10mm} y_1(0)=0$$$$ y_2' = 3y_1 + y_2^3 - \\cos(x) \\hspace{10mm} y_2(0)=0$$\n",
    "Letting $S=(y_1, y_2)$ we need to write a function that returns $dS/dx = (dy_1/dx, dy_2/dx)$. The function $dS/dx$ can take in $S=(y_1, y_2)$ and $x$"
   ]
  },
  {
   "cell_type": "code",
   "execution_count": 78,
   "id": "b1c35a2e",
   "metadata": {},
   "outputs": [],
   "source": [
    "def dSdx(S,x):\n",
    "    y1, y2 = S\n",
    "    return [y1+y2**2+3*x,\n",
    "           3*y1+y2**3-np.cos(x)]\n",
    "\n",
    "y1_0 = 0\n",
    "y2_0 = 0\n",
    "S_0 = (y1_0, y2_0)"
   ]
  },
  {
   "cell_type": "code",
   "execution_count": 79,
   "id": "f1c2315d",
   "metadata": {},
   "outputs": [],
   "source": [
    "x = np.linspace(0,1,100)\n",
    "sol = odeint(dSdx,S_0,x)"
   ]
  },
  {
   "cell_type": "code",
   "execution_count": 81,
   "id": "f8d886a3",
   "metadata": {},
   "outputs": [
    {
     "data": {
      "text/plain": [
       "array([[ 0.00000000e+00,  0.00000000e+00],\n",
       "       [ 1.53914061e-04, -1.00992734e-02],\n",
       "       [ 6.19093356e-04, -2.01882005e-02],\n",
       "       [ 1.40076628e-03, -3.02563164e-02],\n",
       "       [ 2.50418953e-03, -4.02930766e-02],\n",
       "       [ 3.93464633e-03, -5.02878361e-02],\n",
       "       [ 5.69744401e-03, -6.02298432e-02],\n",
       "       [ 7.79789517e-03, -7.01082428e-02],\n",
       "       [ 1.02413187e-02, -7.99120712e-02],\n",
       "       [ 1.30330245e-02, -8.96302498e-02],\n",
       "       [ 1.61783065e-02, -9.92515816e-02],\n",
       "       [ 1.96824391e-02, -1.08764749e-01],\n",
       "       [ 2.35506573e-02, -1.18158303e-01],\n",
       "       [ 2.77881638e-02, -1.27420669e-01],\n",
       "       [ 3.24001125e-02, -1.36540133e-01],\n",
       "       [ 3.73915921e-02, -1.45504834e-01],\n",
       "       [ 4.27676179e-02, -1.54302762e-01],\n",
       "       [ 4.85331404e-02, -1.62921756e-01],\n",
       "       [ 5.46930282e-02, -1.71349495e-01],\n",
       "       [ 6.12520553e-02, -1.79573493e-01],\n",
       "       [ 6.82148995e-02, -1.87581095e-01],\n",
       "       [ 7.55861308e-02, -1.95359467e-01],\n",
       "       [ 8.33702071e-02, -2.02895598e-01],\n",
       "       [ 9.15714669e-02, -2.10176290e-01],\n",
       "       [ 1.00194121e-01, -2.17188157e-01],\n",
       "       [ 1.09242251e-01, -2.23917621e-01],\n",
       "       [ 1.18719801e-01, -2.30350906e-01],\n",
       "       [ 1.28630571e-01, -2.36474041e-01],\n",
       "       [ 1.38978219e-01, -2.42272857e-01],\n",
       "       [ 1.49766252e-01, -2.47732981e-01],\n",
       "       [ 1.60998020e-01, -2.52839835e-01],\n",
       "       [ 1.72676732e-01, -2.57578659e-01],\n",
       "       [ 1.84805434e-01, -2.61934483e-01],\n",
       "       [ 1.97387014e-01, -2.65892141e-01],\n",
       "       [ 2.10424222e-01, -2.69436297e-01],\n",
       "       [ 2.23919648e-01, -2.72551418e-01],\n",
       "       [ 2.37875730e-01, -2.75221791e-01],\n",
       "       [ 2.52294784e-01, -2.77431559e-01],\n",
       "       [ 2.67178978e-01, -2.79164693e-01],\n",
       "       [ 2.82530347e-01, -2.80405012e-01],\n",
       "       [ 2.98350829e-01, -2.81136222e-01],\n",
       "       [ 3.14642248e-01, -2.81341905e-01],\n",
       "       [ 3.31406342e-01, -2.81005542e-01],\n",
       "       [ 3.48644774e-01, -2.80110529e-01],\n",
       "       [ 3.66359140e-01, -2.78640187e-01],\n",
       "       [ 3.84551013e-01, -2.76577800e-01],\n",
       "       [ 4.03221942e-01, -2.73906616e-01],\n",
       "       [ 4.22373488e-01, -2.70609873e-01],\n",
       "       [ 4.42007253e-01, -2.66670823e-01],\n",
       "       [ 4.62124894e-01, -2.62072745e-01],\n",
       "       [ 4.82728181e-01, -2.56798966e-01],\n",
       "       [ 5.03819005e-01, -2.50832883e-01],\n",
       "       [ 5.25399429e-01, -2.44157971e-01],\n",
       "       [ 5.47471735e-01, -2.36757804e-01],\n",
       "       [ 5.70038442e-01, -2.28616068e-01],\n",
       "       [ 5.93102385e-01, -2.19716553e-01],\n",
       "       [ 6.16666735e-01, -2.10043183e-01],\n",
       "       [ 6.40735063e-01, -1.99579993e-01],\n",
       "       [ 6.65311401e-01, -1.88311119e-01],\n",
       "       [ 6.90400276e-01, -1.76220821e-01],\n",
       "       [ 7.16006799e-01, -1.63293405e-01],\n",
       "       [ 7.42136714e-01, -1.49513226e-01],\n",
       "       [ 7.68796463e-01, -1.34864636e-01],\n",
       "       [ 7.95993253e-01, -1.19331954e-01],\n",
       "       [ 8.23735143e-01, -1.02899359e-01],\n",
       "       [ 8.52031104e-01, -8.55508556e-02],\n",
       "       [ 8.80891112e-01, -6.72701355e-02],\n",
       "       [ 9.10326223e-01, -4.80405161e-02],\n",
       "       [ 9.40348671e-01, -2.78447548e-02],\n",
       "       [ 9.70971957e-01, -6.66492984e-03],\n",
       "       [ 1.00221095e+00,  1.55177321e-02],\n",
       "       [ 1.03408198e+00,  3.87230761e-02],\n",
       "       [ 1.06660299e+00,  6.29722272e-02],\n",
       "       [ 1.09979361e+00,  8.82878711e-02],\n",
       "       [ 1.13367532e+00,  1.14694542e-01],\n",
       "       [ 1.16827157e+00,  1.42218950e-01],\n",
       "       [ 1.20360797e+00,  1.70890394e-01],\n",
       "       [ 1.23971243e+00,  2.00741167e-01],\n",
       "       [ 1.27661538e+00,  2.31807067e-01],\n",
       "       [ 1.31434994e+00,  2.64127972e-01],\n",
       "       [ 1.35295223e+00,  2.97748502e-01],\n",
       "       [ 1.39246158e+00,  3.32718734e-01],\n",
       "       [ 1.43292087e+00,  3.69095107e-01],\n",
       "       [ 1.47437687e+00,  4.06941417e-01],\n",
       "       [ 1.51688069e+00,  4.46329999e-01],\n",
       "       [ 1.56048820e+00,  4.87343105e-01],\n",
       "       [ 1.60526063e+00,  5.30074560e-01],\n",
       "       [ 1.65126523e+00,  5.74631731e-01],\n",
       "       [ 1.69857604e+00,  6.21137874e-01],\n",
       "       [ 1.74727479e+00,  6.69734974e-01],\n",
       "       [ 1.79745207e+00,  7.20587249e-01],\n",
       "       [ 1.84920864e+00,  7.73885430e-01],\n",
       "       [ 1.90265708e+00,  8.29852098e-01],\n",
       "       [ 1.95792385e+00,  8.88748463e-01],\n",
       "       [ 2.01515175e+00,  9.50882831e-01],\n",
       "       [ 2.07450310e+00,  1.01662163e+00],\n",
       "       [ 2.13616376e+00,  1.08640368e+00],\n",
       "       [ 2.20034823e+00,  1.16075924e+00],\n",
       "       [ 2.26730636e+00,  1.24033522e+00],\n",
       "       [ 2.33733216e+00,  1.32592999e+00]])"
      ]
     },
     "execution_count": 81,
     "metadata": {},
     "output_type": "execute_result"
    }
   ],
   "source": [
    "sol # first coloumn is y0 and second is y1"
   ]
  },
  {
   "cell_type": "code",
   "execution_count": 82,
   "id": "9837f2c7",
   "metadata": {},
   "outputs": [],
   "source": [
    "y1 = sol.T[0]\n",
    "y2 = sol.T[1]"
   ]
  },
  {
   "cell_type": "code",
   "execution_count": 83,
   "id": "ae944b15",
   "metadata": {},
   "outputs": [
    {
     "data": {
      "text/plain": [
       "[<matplotlib.lines.Line2D at 0x23776796940>]"
      ]
     },
     "execution_count": 83,
     "metadata": {},
     "output_type": "execute_result"
    },
    {
     "data": {
      "image/png": "[encoded data removed]",
      "text/plain": [
       "<Figure size 432x288 with 1 Axes>"
      ]
     },
     "metadata": {
      "needs_background": "light"
     },
     "output_type": "display_data"
    }
   ],
   "source": [
    "plt.plot(x,y1)\n",
    "plt.plot(x,y2)"
   ]
  },
  {
   "cell_type": "markdown",
   "id": "2b0e0e56",
   "metadata": {},
   "source": [
    "Second Order ODEs\n",
    "\n",
    "Equation for a pendulum\n",
    "\n",
    "$$\\theta'' - \\sin(\\theta) = 0$$\n",
    "Scipy can only solve coupled first order ODEs, but <b>any second order ODE can be turned into two coupled first order ODEs.</b> The same thing goes for higher order ODEs.\n",
    "\n",
    "Define $\\omega = d\\theta/dt$ so that one has the following coupled ODEs\n",
    "\n",
    "$$d \\omega / dt = \\sin(\\theta)$$$$d \\theta / dt = \\omega $$\n",
    "Let $S = (\\theta, \\omega)$"
   ]
  },
  {
   "cell_type": "code",
   "execution_count": 84,
   "id": "25dfb03b",
   "metadata": {},
   "outputs": [],
   "source": [
    "def dSdt(S, t):\n",
    "    theta, omega = S\n",
    "    return [omega, np.sin(theta)]\n",
    "\n",
    "theta0 = np.pi/4\n",
    "omega0 = 0\n",
    "S0 = (theta0, omega0)"
   ]
  },
  {
   "cell_type": "code",
   "execution_count": 86,
   "id": "14bf9a08",
   "metadata": {},
   "outputs": [],
   "source": [
    "t =np.linspace(0,20 , 100)\n",
    "sol = odeint(dSdt, S0,t)\n",
    "theta, omega = sol.T"
   ]
  },
  {
   "cell_type": "code",
   "execution_count": 87,
   "id": "16c8ce14",
   "metadata": {},
   "outputs": [
    {
     "data": {
      "image/png": "[encoded data removed]",
      "text/plain": [
       "<Figure size 432x288 with 1 Axes>"
      ]
     },
     "metadata": {
      "needs_background": "light"
     },
     "output_type": "display_data"
    }
   ],
   "source": [
    "plt.plot(t, theta)\n",
    "plt.show()"
   ]
  },
  {
   "cell_type": "markdown",
   "id": "c6b6da23",
   "metadata": {},
   "source": [
    "<h3>\n",
    "    Fourier Transforms"
   ]
  },
  {
   "cell_type": "markdown",
   "id": "9926c37e",
   "metadata": {},
   "source": [
    "\n",
    "\n",
    "The discrete Fourier transform is defined as\n",
    "\n",
    "$$y[k] = \\sum_{n=0}^{N-1} e^{-2 \\pi i n (k / N)} x[n] $$\n",
    "$k/N$ represents a specific frequency (dimensionless)\n",
    "can be converted to a frequency (Hz) if you know the spacing in $x$"
   ]
  },
  {
   "cell_type": "code",
   "execution_count": 88,
   "id": "8ba738a0",
   "metadata": {},
   "outputs": [
    {
     "data": {
      "text/plain": [
       "[<matplotlib.lines.Line2D at 0x23779912940>]"
      ]
     },
     "execution_count": 88,
     "metadata": {},
     "output_type": "execute_result"
    },
    {
     "data": {
      "image/png": "[encoded data removed]",
      "text/plain": [
       "<Figure size 432x288 with 1 Axes>"
      ]
     },
     "metadata": {
      "needs_background": "light"
     },
     "output_type": "display_data"
    }
   ],
   "source": [
    "t = np.linspace(0, 10*np.pi, 100)\n",
    "x = np.sin(2*np.pi*t) + np.sin(4*np.pi*t) + 0.1*np.random.randn(len(t))\n",
    "plt.plot(t,x)"
   ]
  },
  {
   "cell_type": "code",
   "execution_count": 100,
   "id": "8dc1593a",
   "metadata": {},
   "outputs": [],
   "source": [
    "from scipy.fft import fft, fftfreq\n",
    "N = len(x)\n",
    "y = fft(x)[:N//2]\n",
    "f = fftfreq(N,np.diff(t)[0])"
   ]
  },
  {
   "cell_type": "code",
   "execution_count": 101,
   "id": "977af0a3",
   "metadata": {},
   "outputs": [
    {
     "data": {
      "text/plain": [
       "[<matplotlib.lines.Line2D at 0x23779c70f40>]"
      ]
     },
     "execution_count": 101,
     "metadata": {},
     "output_type": "execute_result"
    },
    {
     "data": {
      "image/png": "[encoded data removed]",
      "text/plain": [
       "<Figure size 432x288 with 1 Axes>"
      ]
     },
     "metadata": {
      "needs_background": "light"
     },
     "output_type": "display_data"
    }
   ],
   "source": [
    "plt.plot(np.abs(y))"
   ]
  },
  {
   "cell_type": "markdown",
   "id": "ad3e8c35",
   "metadata": {},
   "source": [
    "<h3>Examples</h3>\n",
    "Example 1. The energy required to get from point $\\vec{r}_1$ to point $\\vec{r}_2$ for a plane is given by\n",
    "\n",
    "$$ E = \\alpha \\int_{C} \\left| \\frac{d\\vec{r}}{dt} \\right| dt - \\int_C \\vec{F} \\cdot \\frac{d\\vec{r}}{dt}dt $$\n",
    "Suppose that $\\alpha=5$ and our start and ends points are $\\vec{r}_1 = (0,0)$ and $\\vec{r}_2 = (0, 10)$. On this particular day, the wind produces a force field $\\vec{F} = (0, -2/(x+1)^2)$. Find the optimal value of $A$ in $\\vec{r}(t) = A\\sin(\\pi t/10)\\hat{x} + t\\hat{y}$ that minimizes the work.\n",
    "\n",
    "Then $x=A\\sin(\\pi t/10)$, $y=t$, and\n",
    "\n",
    "$$\\left| \\frac{d\\vec{r}}{dt} \\right| = \\sqrt{1+(\\pi A /10)^2 \\cos^2(\\pi t/10)}$$$$\\vec{F} \\cdot d\\vec{r} = \\begin{bmatrix} 0 \\\\ -2/(A\\sin(\\pi t/10) +1)^2\\\\ \\end{bmatrix} \\cdot \\begin{bmatrix} \\pi A/10 \\cos(\\pi t/10)\\\\ 1\\\\ \\end{bmatrix} = -2/(A\\sin(\\pi t/10) +1)^2 $$\n",
    "so that\n",
    "\n",
    "$$ E = \\int_{0}^{10} \\left(5\\sqrt{1+(\\pi A /10)^2 \\cos^2(\\pi t/10)} + \\frac{2}{(A\\sin(\\pi t/10) +100)^2}  \\right) dt$$"
   ]
  },
  {
   "cell_type": "markdown",
   "id": "1f66721d",
   "metadata": {},
   "source": [
    "<h1>Linear Algebra"
   ]
  },
  {
   "cell_type": "markdown",
   "id": "e09a03fa",
   "metadata": {},
   "source": [
    "<b>Basics</b>\n",
    "Triangular matrices - Zeros above diagonal form triangle\n",
    "\n",
    "$$ \\begin{bmatrix} 3 &amp; 0 &amp; 0 &amp; 0\\\\ 2 &amp; 1 &amp; 0 &amp; 0 \\\\ 1 &amp; 0 &amp; 1 &amp; 0 \\\\ 1 &amp; 1 &amp; 1 &amp; 1 \\end{bmatrix} \\vec{x} = \\begin{bmatrix} 4\\\\2\\\\4\\\\2 \\end{bmatrix} $$"
   ]
  },
  {
   "cell_type": "code",
   "execution_count": 104,
   "id": "3386b92c",
   "metadata": {},
   "outputs": [
    {
     "data": {
      "text/plain": [
       "array([ 1.33333333, -0.66666667,  2.66666667, -1.33333333])"
      ]
     },
     "execution_count": 104,
     "metadata": {},
     "output_type": "execute_result"
    }
   ],
   "source": [
    "from scipy.linalg import solve_triangular\n",
    "a = np.array([[3,0,0,1],\n",
    "              [2,1,0,0],\n",
    "              [1,0,1,0],\n",
    "              [1,1,1,1]\n",
    "])\n",
    "b = np.array([4,2,4,2])\n",
    "x = solve_triangular(a, b ,lower=True)\n",
    "x"
   ]
  },
  {
   "cell_type": "markdown",
   "id": "2185e21d",
   "metadata": {},
   "source": [
    "Toeplitz Matrices (matrices with constant diagonals)\n",
    "\n",
    "$$ \\begin{bmatrix} 1 & -1 & -2 & -3\\\\ 3& 1 & -1 & 2 \\\\ 6 & 3 & 1 & -1 \\\\ 10 & 6 & 3 & 1 \\end{bmatrix} \\vec{x} = \\begin{bmatrix} 1\\\\2\\\\2\\\\5 \\end{bmatrix} $$"
   ]
  },
  {
   "cell_type": "code",
   "execution_count": 113,
   "id": "38783595",
   "metadata": {},
   "outputs": [],
   "source": [
    "from scipy.linalg import toeplitz, solve_toeplitz\n",
    "\n",
    "c = np.array([1, 3, 6, 10]) #First column of T\n",
    "r = np.array([1,-1, -2, -3])  #First row of T\n",
    "a = np.array([1, 2, 2, 5])"
   ]
  },
  {
   "cell_type": "code",
   "execution_count": 114,
   "id": "6f5971c4",
   "metadata": {},
   "outputs": [],
   "source": [
    "x = solve_toeplitz((c,r),a)"
   ]
  },
  {
   "cell_type": "code",
   "execution_count": 115,
   "id": "7bbf854d",
   "metadata": {},
   "outputs": [
    {
     "data": {
      "text/plain": [
       "array([ 1.66666667, -1.        , -2.66666667,  2.33333333])"
      ]
     },
     "execution_count": 115,
     "metadata": {},
     "output_type": "execute_result"
    }
   ],
   "source": [
    "x"
   ]
  },
  {
   "cell_type": "markdown",
   "id": "3affc6a8",
   "metadata": {},
   "source": [
    "<b>Eigenvalue Problems</b>\n",
    "\n",
    "<p>Eigenvalue problems can be solved using numpy, so here we focus on particular cases for optimization"
   ]
  },
  {
   "attachments": {
    "image.png": {
     "image/png": "[encoded data removed]"
    }
   },
   "cell_type": "markdown",
   "id": "21af9f35",
   "metadata": {},
   "source": [
    "![image.png](attachment:image.png)"
   ]
  },
  {
   "cell_type": "code",
   "execution_count": 116,
   "id": "fd184d46",
   "metadata": {},
   "outputs": [],
   "source": [
    "from scipy.linalg import eigh_tridiagonal"
   ]
  },
  {
   "cell_type": "code",
   "execution_count": 120,
   "id": "d136a57c",
   "metadata": {},
   "outputs": [],
   "source": [
    "d = 3*np.ones(4)\n",
    "e = -1*np.ones(3)\n",
    "w,v = eigh_tridiagonal(d, e)"
   ]
  },
  {
   "cell_type": "code",
   "execution_count": 122,
   "id": "865b7815",
   "metadata": {},
   "outputs": [],
   "source": [
    "A = np.diag(d) + np.diag(e, k=1) + np.diag(e, k=-1)"
   ]
  },
  {
   "cell_type": "code",
   "execution_count": 123,
   "id": "6b4028e6",
   "metadata": {},
   "outputs": [
    {
     "data": {
      "text/plain": [
       "array([[ 3., -1.,  0.,  0.],\n",
       "       [-1.,  3., -1.,  0.],\n",
       "       [ 0., -1.,  3., -1.],\n",
       "       [ 0.,  0., -1.,  3.]])"
      ]
     },
     "execution_count": 123,
     "metadata": {},
     "output_type": "execute_result"
    }
   ],
   "source": [
    "A"
   ]
  },
  {
   "cell_type": "code",
   "execution_count": 127,
   "id": "d78a9802",
   "metadata": {},
   "outputs": [
    {
     "data": {
      "text/plain": [
       "array([ 1.43275483,  0.88549118, -0.88549118, -1.43275483])"
      ]
     },
     "execution_count": 127,
     "metadata": {},
     "output_type": "execute_result"
    }
   ],
   "source": [
    "A@v.T[1]"
   ]
  },
  {
   "cell_type": "code",
   "execution_count": 128,
   "id": "927e64c2",
   "metadata": {},
   "outputs": [
    {
     "data": {
      "text/plain": [
       "array([ 1.43275483,  0.88549118, -0.88549118, -1.43275483])"
      ]
     },
     "execution_count": 128,
     "metadata": {},
     "output_type": "execute_result"
    }
   ],
   "source": [
    "w[1]*v.T[1]"
   ]
  },
  {
   "cell_type": "markdown",
   "id": "6014bcfc",
   "metadata": {},
   "source": [
    "<h3>Special Matrices"
   ]
  },
  {
   "cell_type": "markdown",
   "id": "557755e0",
   "metadata": {},
   "source": [
    "Fiedler matrix $A_{ij} = |a_i - a_j|$ where $a_i$ is some sequence of numbers"
   ]
  },
  {
   "cell_type": "code",
   "execution_count": 130,
   "id": "1f7c913b",
   "metadata": {},
   "outputs": [
    {
     "data": {
      "text/plain": [
       "array([[ 0,  3, 11, 44],\n",
       "       [ 3,  0,  8, 41],\n",
       "       [11,  8,  0, 33],\n",
       "       [44, 41, 33,  0]])"
      ]
     },
     "execution_count": 130,
     "metadata": {},
     "output_type": "execute_result"
    }
   ],
   "source": [
    "from scipy.linalg import fiedler\n",
    "fiedler([1,4,12,45])"
   ]
  },
  {
   "cell_type": "markdown",
   "id": "1e91cdcd",
   "metadata": {},
   "source": [
    "\n",
    "Toeplitz matrices (matrices with constant diagonals)"
   ]
  },
  {
   "cell_type": "code",
   "execution_count": 131,
   "id": "5f91849a",
   "metadata": {},
   "outputs": [],
   "source": [
    "from scipy.linalg import toeplitz"
   ]
  },
  {
   "cell_type": "code",
   "execution_count": 132,
   "id": "116823a6",
   "metadata": {},
   "outputs": [
    {
     "data": {
      "text/plain": [
       "array([[1, 4, 5, 6, 0, 0],\n",
       "       [2, 1, 4, 5, 6, 0],\n",
       "       [3, 2, 1, 4, 5, 6],\n",
       "       [6, 3, 2, 1, 4, 5],\n",
       "       [0, 6, 3, 2, 1, 4],\n",
       "       [0, 0, 6, 3, 2, 1]])"
      ]
     },
     "execution_count": 132,
     "metadata": {},
     "output_type": "execute_result"
    }
   ],
   "source": [
    "toeplitz([1,2,3,6,0,0],[1,4,5,6,0,0])"
   ]
  },
  {
   "cell_type": "markdown",
   "id": "16b38c3c",
   "metadata": {},
   "source": [
    "https://docs.scipy.org/doc/scipy/reference/linalg.html#special-matrices"
   ]
  },
  {
   "cell_type": "markdown",
   "id": "81e520ce",
   "metadata": {},
   "source": [
    "<b>Decomposition</b>\n",
    "<p>LU decomposition $A = PLU$ where $P$ is a permutation matrix, $L$ is a lower triangular matrix and $U$ is an upper triangular matrix."
   ]
  },
  {
   "cell_type": "code",
   "execution_count": 137,
   "id": "6107fca0",
   "metadata": {},
   "outputs": [],
   "source": [
    "from scipy.linalg import lu\n",
    "A = np.array([[2,5,8, 7],[5, 2, 2, 8],[7, 5, 6, 6],[5, 4, 4, 8]])\n",
    "p, l, u = lu(A)"
   ]
  },
  {
   "cell_type": "markdown",
   "id": "00dea2a1",
   "metadata": {},
   "source": [
    "Choleski decomposition: find matrix $C$ such that $A = CC^T$"
   ]
  },
  {
   "cell_type": "code",
   "execution_count": 139,
   "id": "11583f0a",
   "metadata": {},
   "outputs": [],
   "source": [
    "from scipy.linalg import cholesky\n",
    "A = np.array([[1, 0.2],[0.2, 1]])\n",
    "C = cholesky(A, lower=True)"
   ]
  },
  {
   "cell_type": "code",
   "execution_count": 140,
   "id": "4f54994e",
   "metadata": {},
   "outputs": [
    {
     "data": {
      "text/plain": [
       "array([[1.       , 0.       ],\n",
       "       [0.2      , 0.9797959]])"
      ]
     },
     "execution_count": 140,
     "metadata": {},
     "output_type": "execute_result"
    }
   ],
   "source": [
    "C"
   ]
  },
  {
   "cell_type": "code",
   "execution_count": 142,
   "id": "b5173270",
   "metadata": {},
   "outputs": [
    {
     "data": {
      "text/plain": [
       "array([[1. , 0.2],\n",
       "       [0.2, 1. ]])"
      ]
     },
     "execution_count": 142,
     "metadata": {},
     "output_type": "execute_result"
    }
   ],
   "source": [
    "C@C.T # @MulMat"
   ]
  },
  {
   "cell_type": "code",
   "execution_count": 143,
   "id": "c29e1a7a",
   "metadata": {},
   "outputs": [
    {
     "data": {
      "text/plain": [
       "array([[1. , 0.2],\n",
       "       [0.2, 1. ]])"
      ]
     },
     "execution_count": 143,
     "metadata": {},
     "output_type": "execute_result"
    }
   ],
   "source": [
    "A"
   ]
  },
  {
   "cell_type": "markdown",
   "id": "4268c68b",
   "metadata": {},
   "source": [
    "<h2>Sparse Matrices"
   ]
  },
  {
   "cell_type": "markdown",
   "id": "f00dc67b",
   "metadata": {},
   "source": [
    "Matrices that contain lots of zeros (so lots of space can be reduced)\n",
    "\n",
    "A Useful Example:\n",
    "\n",
    "The second derivative of $f(x_i) \\equiv f_i$ is approximated as $\\frac{d^2 f_i}{dx^2} \\approx \\frac{f_{i+1}+f_{i-1}-2f_i}{\\Delta x^2}$. Suppose we have $f_0, ... f_4$ and $f_0=f_4=0$ (boundary conditions). Then the second derivative is approximated as\n",
    "\n",
    "$$ D \\begin{bmatrix} f_1 \\\\ f_2 \\\\ f_3\\end{bmatrix} \\hspace{10mm} \\text{where} \\hspace{2mm} D = \\frac{1}{\\Delta x^2}\\begin{bmatrix} -2 &amp; 1 &amp; 0 \\\\ 1 &amp; -2 &amp; 1 \\\\ 0 &amp; 1 &amp; -2 \\end{bmatrix} $$\n",
    "In 2D our function can be discretized on a grid\n",
    "\n",
    "$$\\begin{bmatrix} 0 &amp; 0 &amp; 0 &amp; 0 &amp; 0 \\\\ 0 &amp; f_{11} &amp; f_{12} &amp; f_{13} &amp; 0 \\\\ 0 &amp; f_{21} &amp; f_{22} &amp; f_{23} &amp; 0 \\\\ 0 &amp; f_{31} &amp; f_{32} &amp; f_{33} &amp; 0 \\\\ 0 &amp; 0 &amp; 0 &amp; 0 &amp; 0 \\end{bmatrix} $$\n",
    "but when doing this sort of work, its always better to store information in a vector\n",
    "\n",
    "$$\\begin{bmatrix} 0 &amp; 0 &amp; 0 &amp; 0 &amp; 0 \\\\ 0 &amp; f_{11} &amp; f_{12} &amp; f_{13} &amp; 0 \\\\ 0 &amp; f_{21} &amp; f_{22} &amp; f_{23} &amp; 0 \\\\ 0 &amp; f_{31} &amp; f_{32} &amp; f_{33} &amp; 0 \\\\ 0 &amp; 0 &amp; 0 &amp; 0 &amp; 0 \\end{bmatrix} \\to \\begin{bmatrix} f_{11} \\\\ f_{12} \\\\ f_{13} \\\\ f_{21} \\\\ f_{22} \\\\ f_{23} \\\\ f_{31} \\\\ f_{32} \\\\ f_{33} \\end{bmatrix}$$\n",
    "What does the 2D laplacian look like? It turns out it is the \"Kroncker sum\" of our original matrix. The second derivative is given by\n",
    "\n",
    "$$(D \\oplus D) \\begin{bmatrix} f_{11} \\\\ f_{12} \\\\ f_{13} \\\\ f_{21} \\\\ f_{22} \\\\ f_{23} \\\\ f_{31} \\\\ f_{32} \\\\ f_{33} \\end{bmatrix} \\hspace{10mm} \\text{where} \\hspace{2mm} D = \\frac{1}{\\Delta x^2}\\begin{bmatrix} -2 &amp; 1 &amp; 0 \\\\ 1 &amp; -2 &amp; 1 \\\\ 0 &amp; 1 &amp; -2 \\end{bmatrix} $$\n",
    "Note that even though $D$ is 3x3, $D \\oplus D$ is 9x9."
   ]
  },
  {
   "cell_type": "code",
   "execution_count": 145,
   "id": "86615f3b",
   "metadata": {},
   "outputs": [
    {
     "data": {
      "text/plain": [
       "array([[-4.,  1.,  0.,  0.,  0.,  1.,  0.,  0.,  0.,  0.,  0.,  0.,  0.,\n",
       "         0.,  0.,  0.,  0.,  0.,  0.,  0.,  0.,  0.,  0.,  0.,  0.],\n",
       "       [ 1., -4.,  1.,  0.,  0.,  0.,  1.,  0.,  0.,  0.,  0.,  0.,  0.,\n",
       "         0.,  0.,  0.,  0.,  0.,  0.,  0.,  0.,  0.,  0.,  0.,  0.],\n",
       "       [ 0.,  1., -4.,  1.,  0.,  0.,  0.,  1.,  0.,  0.,  0.,  0.,  0.,\n",
       "         0.,  0.,  0.,  0.,  0.,  0.,  0.,  0.,  0.,  0.,  0.,  0.],\n",
       "       [ 0.,  0.,  1., -4.,  1.,  0.,  0.,  0.,  1.,  0.,  0.,  0.,  0.,\n",
       "         0.,  0.,  0.,  0.,  0.,  0.,  0.,  0.,  0.,  0.,  0.,  0.],\n",
       "       [ 0.,  0.,  0.,  1., -4.,  0.,  0.,  0.,  0.,  1.,  0.,  0.,  0.,\n",
       "         0.,  0.,  0.,  0.,  0.,  0.,  0.,  0.,  0.,  0.,  0.,  0.],\n",
       "       [ 1.,  0.,  0.,  0.,  0., -4.,  1.,  0.,  0.,  0.,  1.,  0.,  0.,\n",
       "         0.,  0.,  0.,  0.,  0.,  0.,  0.,  0.,  0.,  0.,  0.,  0.],\n",
       "       [ 0.,  1.,  0.,  0.,  0.,  1., -4.,  1.,  0.,  0.,  0.,  1.,  0.,\n",
       "         0.,  0.,  0.,  0.,  0.,  0.,  0.,  0.,  0.,  0.,  0.,  0.],\n",
       "       [ 0.,  0.,  1.,  0.,  0.,  0.,  1., -4.,  1.,  0.,  0.,  0.,  1.,\n",
       "         0.,  0.,  0.,  0.,  0.,  0.,  0.,  0.,  0.,  0.,  0.,  0.],\n",
       "       [ 0.,  0.,  0.,  1.,  0.,  0.,  0.,  1., -4.,  1.,  0.,  0.,  0.,\n",
       "         1.,  0.,  0.,  0.,  0.,  0.,  0.,  0.,  0.,  0.,  0.,  0.],\n",
       "       [ 0.,  0.,  0.,  0.,  1.,  0.,  0.,  0.,  1., -4.,  0.,  0.,  0.,\n",
       "         0.,  1.,  0.,  0.,  0.,  0.,  0.,  0.,  0.,  0.,  0.,  0.],\n",
       "       [ 0.,  0.,  0.,  0.,  0.,  1.,  0.,  0.,  0.,  0., -4.,  1.,  0.,\n",
       "         0.,  0.,  1.,  0.,  0.,  0.,  0.,  0.,  0.,  0.,  0.,  0.],\n",
       "       [ 0.,  0.,  0.,  0.,  0.,  0.,  1.,  0.,  0.,  0.,  1., -4.,  1.,\n",
       "         0.,  0.,  0.,  1.,  0.,  0.,  0.,  0.,  0.,  0.,  0.,  0.],\n",
       "       [ 0.,  0.,  0.,  0.,  0.,  0.,  0.,  1.,  0.,  0.,  0.,  1., -4.,\n",
       "         1.,  0.,  0.,  0.,  1.,  0.,  0.,  0.,  0.,  0.,  0.,  0.],\n",
       "       [ 0.,  0.,  0.,  0.,  0.,  0.,  0.,  0.,  1.,  0.,  0.,  0.,  1.,\n",
       "        -4.,  1.,  0.,  0.,  0.,  1.,  0.,  0.,  0.,  0.,  0.,  0.],\n",
       "       [ 0.,  0.,  0.,  0.,  0.,  0.,  0.,  0.,  0.,  1.,  0.,  0.,  0.,\n",
       "         1., -4.,  0.,  0.,  0.,  0.,  1.,  0.,  0.,  0.,  0.,  0.],\n",
       "       [ 0.,  0.,  0.,  0.,  0.,  0.,  0.,  0.,  0.,  0.,  1.,  0.,  0.,\n",
       "         0.,  0., -4.,  1.,  0.,  0.,  0.,  1.,  0.,  0.,  0.,  0.],\n",
       "       [ 0.,  0.,  0.,  0.,  0.,  0.,  0.,  0.,  0.,  0.,  0.,  1.,  0.,\n",
       "         0.,  0.,  1., -4.,  1.,  0.,  0.,  0.,  1.,  0.,  0.,  0.],\n",
       "       [ 0.,  0.,  0.,  0.,  0.,  0.,  0.,  0.,  0.,  0.,  0.,  0.,  1.,\n",
       "         0.,  0.,  0.,  1., -4.,  1.,  0.,  0.,  0.,  1.,  0.,  0.],\n",
       "       [ 0.,  0.,  0.,  0.,  0.,  0.,  0.,  0.,  0.,  0.,  0.,  0.,  0.,\n",
       "         1.,  0.,  0.,  0.,  1., -4.,  1.,  0.,  0.,  0.,  1.,  0.],\n",
       "       [ 0.,  0.,  0.,  0.,  0.,  0.,  0.,  0.,  0.,  0.,  0.,  0.,  0.,\n",
       "         0.,  1.,  0.,  0.,  0.,  1., -4.,  0.,  0.,  0.,  0.,  1.],\n",
       "       [ 0.,  0.,  0.,  0.,  0.,  0.,  0.,  0.,  0.,  0.,  0.,  0.,  0.,\n",
       "         0.,  0.,  1.,  0.,  0.,  0.,  0., -4.,  1.,  0.,  0.,  0.],\n",
       "       [ 0.,  0.,  0.,  0.,  0.,  0.,  0.,  0.,  0.,  0.,  0.,  0.,  0.,\n",
       "         0.,  0.,  0.,  1.,  0.,  0.,  0.,  1., -4.,  1.,  0.,  0.],\n",
       "       [ 0.,  0.,  0.,  0.,  0.,  0.,  0.,  0.,  0.,  0.,  0.,  0.,  0.,\n",
       "         0.,  0.,  0.,  0.,  1.,  0.,  0.,  0.,  1., -4.,  1.,  0.],\n",
       "       [ 0.,  0.,  0.,  0.,  0.,  0.,  0.,  0.,  0.,  0.,  0.,  0.,  0.,\n",
       "         0.,  0.,  0.,  0.,  0.,  1.,  0.,  0.,  0.,  1., -4.,  1.],\n",
       "       [ 0.,  0.,  0.,  0.,  0.,  0.,  0.,  0.,  0.,  0.,  0.,  0.,  0.,\n",
       "         0.,  0.,  0.,  0.,  0.,  0.,  1.,  0.,  0.,  0.,  1., -4.]])"
      ]
     },
     "execution_count": 145,
     "metadata": {},
     "output_type": "execute_result"
    }
   ],
   "source": [
    "from scipy.linalg import kron #Kronecker product, NOT sum\n",
    "N =5\n",
    "d = -2*np.ones(N)\n",
    "e = np.ones(N-1)\n",
    "D = np.diag(d) + np.diag(e, k=1) + np.diag(e, k=-1)\n",
    "D_kronsum = kron(D, np.identity(N)) + kron(np.identity(N),D)\n",
    "D_kronsum"
   ]
  },
  {
   "cell_type": "markdown",
   "id": "e6993a1d",
   "metadata": {},
   "source": [
    "Too big for any reasonable calculation! But can use sparse matrices"
   ]
  },
  {
   "cell_type": "code",
   "execution_count": 146,
   "id": "4e99af8d",
   "metadata": {},
   "outputs": [],
   "source": [
    "from scipy import sparse\n",
    "N=100\n",
    "diag = np.ones([N])\n",
    "diags = np.array([diag, -2*diag, diag])\n",
    "D = sparse.spdiags(diags, np.array([-1,0,1]), N, N)\n",
    "T = -1/2*sparse.kronsum(D,D)"
   ]
  },
  {
   "cell_type": "code",
   "execution_count": 147,
   "id": "1bca4f41",
   "metadata": {},
   "outputs": [
    {
     "data": {
      "text/plain": [
       "<10000x10000 sparse matrix of type '<class 'numpy.float64'>'\n",
       "\twith 49600 stored elements in Compressed Sparse Row format>"
      ]
     },
     "execution_count": 147,
     "metadata": {},
     "output_type": "execute_result"
    }
   ],
   "source": [
    "T"
   ]
  },
  {
   "cell_type": "markdown",
   "id": "a5811825",
   "metadata": {},
   "source": [
    "See my 2D Schrodinger video for how I use this to construct eigenstates for arbitrary potentials!"
   ]
  },
  {
   "cell_type": "code",
   "execution_count": null,
   "id": "c2051535",
   "metadata": {},
   "outputs": [],
   "source": []
  }
 ],
 "metadata": {
  "kernelspec": {
   "display_name": "Python 3",
   "language": "python",
   "name": "python3"
  },
  "language_info": {
   "codemirror_mode": {
    "name": "ipython",
    "version": 3
   },
   "file_extension": ".py",
   "mimetype": "text/x-python",
   "name": "python",
   "nbconvert_exporter": "python",
   "pygments_lexer": "ipython3",
   "version": "3.8.8"
  }
 },
 "nbformat": 4,
 "nbformat_minor": 5
}
