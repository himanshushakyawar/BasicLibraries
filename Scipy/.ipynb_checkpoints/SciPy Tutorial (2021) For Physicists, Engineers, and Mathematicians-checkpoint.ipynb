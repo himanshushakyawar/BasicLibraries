{
 "cells": [
  {
   "cell_type": "markdown",
   "id": "fc8d6962",
   "metadata": {},
   "source": [
    "Tutorial Link : https://www.youtube.com/watch?v=jmX4FOUEfgU\n",
    "\n",
    "Github:https://github.com/lukepolson/youtube_channel/blob/main/Python%20Tutorial%20Series/scipy_essentials.ipynb"
   ]
  },
  {
   "cell_type": "code",
   "execution_count": 4,
   "id": "ad79e1e4",
   "metadata": {},
   "outputs": [],
   "source": [
    "import numpy as np\n",
    "import matplotlib.pyplot as plt\n",
    "import scipy "
   ]
  },
  {
   "cell_type": "markdown",
   "id": "e28297d2",
   "metadata": {},
   "source": [
    "<h3>Basic"
   ]
  },
  {
   "cell_type": "markdown",
   "id": "5cefc51c",
   "metadata": {},
   "source": [
    "<h>"
   ]
  },
  {
   "cell_type": "markdown",
   "id": "494d0d19",
   "metadata": {},
   "source": [
    "<h3>Optimization"
   ]
  },
  {
   "cell_type": "code",
   "execution_count": 5,
   "id": "48772565",
   "metadata": {},
   "outputs": [],
   "source": [
    "from scipy.optimize import minimize"
   ]
  },
  {
   "cell_type": "markdown",
   "id": "41b730a2",
   "metadata": {},
   "source": [
    "Minimize $f(x) = (x-3)^2$\n",
    "\n"
   ]
  },
  {
   "cell_type": "code",
   "execution_count": 6,
   "id": "12167d12",
   "metadata": {},
   "outputs": [],
   "source": [
    "def f(x):\n",
    "    return(x-3)**2\n",
    "\n",
    "res = minimize(f,2)"
   ]
  },
  {
   "cell_type": "code",
   "execution_count": 7,
   "id": "3850dbc4",
   "metadata": {},
   "outputs": [
    {
     "data": {
      "text/plain": [
       "      fun: 5.551437397369767e-17\n",
       " hess_inv: array([[0.5]])\n",
       "      jac: array([-4.3254289e-13])\n",
       "  message: 'Optimization terminated successfully.'\n",
       "     nfev: 6\n",
       "      nit: 2\n",
       "     njev: 3\n",
       "   status: 0\n",
       "  success: True\n",
       "        x: array([2.99999999])"
      ]
     },
     "execution_count": 7,
     "metadata": {},
     "output_type": "execute_result"
    }
   ],
   "source": [
    "res"
   ]
  },
  {
   "cell_type": "code",
   "execution_count": 8,
   "id": "4d58088a",
   "metadata": {},
   "outputs": [
    {
     "data": {
      "text/plain": [
       "array([2.99999999])"
      ]
     },
     "execution_count": 8,
     "metadata": {},
     "output_type": "execute_result"
    }
   ],
   "source": [
    "res.x #Value of x at which the function is minimun"
   ]
  },
  {
   "cell_type": "code",
   "execution_count": null,
   "id": "7763b042",
   "metadata": {},
   "outputs": [],
   "source": []
  },
  {
   "cell_type": "markdown",
   "id": "c87dec18",
   "metadata": {},
   "source": [
    "Minimize $f(x, y) = (x-1)^2 + (y-2.5)^2$ subject to\n",
    "\n",
    "$$x-2y+2 \\geq 0 $$$$-x-2y+6 \\geq 0$$$$-x + 2y + 2 \\geq 0$$$$x \\geq 0 $$$$y \\geq 0 $$\n",
    "drawing\n",
    "2D function takes in vector $x$\n",
    "Constraints must be specified as $g_i(x) \\geq 0$\n",
    "Bounds specified as rectangular"
   ]
  },
  {
   "cell_type": "code",
   "execution_count": 9,
   "id": "e2e7c99d",
   "metadata": {},
   "outputs": [],
   "source": [
    "f = lambda x : (x[0]-1)**2 + (x[1] - 2.5)**2\n",
    "cons = ({'type':'ineq', 'fun': lambda x: x[0]-2*x[1] +2},\n",
    "       {'type':'ineq', 'fun': lambda x: -x[0]-2*x[1] +6},\n",
    "       {'type':'ineq', 'fun': lambda x: -x[0]+2*x[1] +2})\n",
    "bnds=((0,None),(0,None))\n",
    "res = minimize(f,(2,0),bounds=bnds, constraints=cons)"
   ]
  },
  {
   "cell_type": "code",
   "execution_count": 10,
   "id": "55be15a2",
   "metadata": {},
   "outputs": [
    {
     "data": {
      "text/plain": [
       "     fun: 0.8000000011920985\n",
       "     jac: array([ 0.80000002, -1.59999999])\n",
       " message: 'Optimization terminated successfully'\n",
       "    nfev: 10\n",
       "     nit: 3\n",
       "    njev: 3\n",
       "  status: 0\n",
       " success: True\n",
       "       x: array([1.4, 1.7])"
      ]
     },
     "execution_count": 10,
     "metadata": {},
     "output_type": "execute_result"
    }
   ],
   "source": [
    "res"
   ]
  },
  {
   "cell_type": "code",
   "execution_count": 11,
   "id": "bc87af6f",
   "metadata": {},
   "outputs": [
    {
     "data": {
      "text/plain": [
       "array([1.4, 1.7])"
      ]
     },
     "execution_count": 11,
     "metadata": {},
     "output_type": "execute_result"
    }
   ],
   "source": [
    "res.x"
   ]
  },
  {
   "cell_type": "code",
   "execution_count": 14,
   "id": "e5554da9",
   "metadata": {},
   "outputs": [],
   "source": [
    "# minimize?"
   ]
  },
  {
   "cell_type": "markdown",
   "id": "51145eed",
   "metadata": {},
   "source": [
    "<h3>Interpolation</h3> <p>means knowing the shape of function within our given range"
   ]
  },
  {
   "cell_type": "code",
   "execution_count": 15,
   "id": "20d932fd",
   "metadata": {},
   "outputs": [
    {
     "data": {
      "text/plain": [
       "<matplotlib.collections.PathCollection at 0x215fe6528e0>"
      ]
     },
     "execution_count": 15,
     "metadata": {},
     "output_type": "execute_result"
    },
    {
     "data": {
      "image/png": "[encoded data removed]",
      "text/plain": [
       "<Figure size 432x288 with 1 Axes>"
      ]
     },
     "metadata": {
      "needs_background": "light"
     },
     "output_type": "display_data"
    }
   ],
   "source": [
    "x = np.linspace(0,10,10)\n",
    "y=x**2*np.sin(x)\n",
    "plt.scatter(x,y)"
   ]
  },
  {
   "cell_type": "code",
   "execution_count": 16,
   "id": "778ca1b2",
   "metadata": {},
   "outputs": [],
   "source": [
    "from scipy.interpolate import interp1d"
   ]
  },
  {
   "cell_type": "code",
   "execution_count": 20,
   "id": "d1c09a42",
   "metadata": {},
   "outputs": [],
   "source": [
    "f = interp1d(x,y, kind='cubic')\n",
    "x_dense = np.linspace(0,10,100)\n",
    "y_dense = f(x_dense)"
   ]
  },
  {
   "cell_type": "code",
   "execution_count": 21,
   "id": "e10a6191",
   "metadata": {},
   "outputs": [
    {
     "data": {
      "text/plain": [
       "[<matplotlib.lines.Line2D at 0x215febc0070>]"
      ]
     },
     "execution_count": 21,
     "metadata": {},
     "output_type": "execute_result"
    },
    {
     "data": {
      "image/png": "[encoded data removed]",
      "text/plain": [
       "<Figure size 432x288 with 1 Axes>"
      ]
     },
     "metadata": {
      "needs_background": "light"
     },
     "output_type": "display_data"
    }
   ],
   "source": [
    "plt.plot(x_dense,y_dense)"
   ]
  },
  {
   "cell_type": "markdown",
   "id": "3fab2bd0",
   "metadata": {},
   "source": [
    "<h3>Curve Fitting"
   ]
  },
  {
   "cell_type": "code",
   "execution_count": 22,
   "id": "dba7faf1",
   "metadata": {},
   "outputs": [],
   "source": [
    "x_data = np.linspace(0,10,10)\n",
    "y_data = 3*x_data**2+2"
   ]
  },
  {
   "cell_type": "code",
   "execution_count": 23,
   "id": "6d820d07",
   "metadata": {},
   "outputs": [
    {
     "data": {
      "text/plain": [
       "<matplotlib.collections.PathCollection at 0x215ff3d80a0>"
      ]
     },
     "execution_count": 23,
     "metadata": {},
     "output_type": "execute_result"
    },
    {
     "data": {
      "image/png": "[encoded data removed]",
      "text/plain": [
       "<Figure size 432x288 with 1 Axes>"
      ]
     },
     "metadata": {
      "needs_background": "light"
     },
     "output_type": "display_data"
    }
   ],
   "source": [
    "plt.scatter(x_data,y_data)"
   ]
  },
  {
   "cell_type": "markdown",
   "id": "02893a37",
   "metadata": {},
   "source": [
    "<p>\n",
    "    want to fit the data to the curve $y = ax^2 +b.$ The main goal here is determine the value of a and b"
   ]
  },
  {
   "cell_type": "code",
   "execution_count": 24,
   "id": "d338f575",
   "metadata": {},
   "outputs": [],
   "source": [
    "from scipy.optimize import curve_fit\n",
    "\n",
    "def func(x,a,b):\n",
    "    return a*x**2 +b\n",
    "\n",
    "popt, pcov = curve_fit(func, x_data,y_data, p0=(1,1))"
   ]
  },
  {
   "cell_type": "code",
   "execution_count": 25,
   "id": "d036d573",
   "metadata": {},
   "outputs": [
    {
     "data": {
      "text/plain": [
       "array([3., 2.])"
      ]
     },
     "execution_count": 25,
     "metadata": {},
     "output_type": "execute_result"
    }
   ],
   "source": [
    "popt"
   ]
  },
  {
   "cell_type": "markdown",
   "id": "56e63017",
   "metadata": {},
   "source": [
    "The equation for spring motion is $y(t) = A\\cos(\\omega t+\\phi)$. Want to find the natural frequency of oscillation $\\omega$ for the spring. You collect the data"
   ]
  },
  {
   "cell_type": "code",
   "execution_count": 26,
   "id": "04f50ac5",
   "metadata": {},
   "outputs": [],
   "source": [
    "\n",
    "t_data = np.array([ 0.   ,  0.34482759,  0.68965517,  1.03448276,  1.37931034,\n",
    "        1.72413793,  2.06896552,  2.4137931 ,  2.75862069,  3.10344828,\n",
    "        3.44827586,  3.79310345,  4.13793103,  4.48275862,  4.82758621,\n",
    "        5.17241379,  5.51724138,  5.86206897,  6.20689655,  6.55172414,\n",
    "        6.89655172,  7.24137931,  7.5862069 ,  7.93103448,  8.27586207,\n",
    "        8.62068966,  8.96551724,  9.31034483,  9.65517241, 10.        ])\n",
    "y_data = np.array([ 4.3303953 ,  1.61137995, -2.15418696, -3.90137249, -1.67259042,\n",
    "        2.16884383,  3.86635998,  1.85194506, -1.8489224 , -3.96560495,\n",
    "       -2.13385255,  1.59425817,  4.06145238,  1.89300594, -1.76870297,\n",
    "       -4.26791226, -2.46874133,  1.37019912,  4.24945607,  2.27038039,\n",
    "       -1.50299303, -3.46774049, -2.50845488,  1.20022052,  3.81633703,\n",
    "        2.91511556, -1.24569189, -3.72716214, -2.54549857,  0.87262548])"
   ]
  },
  {
   "cell_type": "code",
   "execution_count": 27,
   "id": "899e0b94",
   "metadata": {},
   "outputs": [
    {
     "data": {
      "text/plain": [
       "[<matplotlib.lines.Line2D at 0x215a1097c40>]"
      ]
     },
     "execution_count": 27,
     "metadata": {},
     "output_type": "execute_result"
    },
    {
     "data": {
      "image/png": "[encoded data removed]",
      "text/plain": [
       "<Figure size 432x288 with 1 Axes>"
      ]
     },
     "metadata": {
      "needs_background": "light"
     },
     "output_type": "display_data"
    }
   ],
   "source": [
    "plt.plot(t_data,y_data,'o--')"
   ]
  },
  {
   "cell_type": "markdown",
   "id": "db1b6ea4",
   "metadata": {},
   "source": [
    "\n",
    "$\\omega = 2 \\pi f$, $f=1/T$, and $T \\approx 2$ seconds. Thus good initial guess is\n",
    "\n",
    "$\\omega = 2 \\pi (1/2) = \\pi$\n",
    "$A=4$\n",
    "$\\phi = 0$"
   ]
  },
  {
   "cell_type": "code",
   "execution_count": 30,
   "id": "b3067c3f",
   "metadata": {},
   "outputs": [],
   "source": [
    "def func(x,A,w,phi):\n",
    "    return A*np.cos(w*x +phi)\n",
    "popt, pcov = curve_fit(func, t_data,y_data,p0=(4,np.pi,0))"
   ]
  },
  {
   "cell_type": "code",
   "execution_count": 31,
   "id": "f9ea96ea",
   "metadata": {},
   "outputs": [
    {
     "data": {
      "text/plain": [
       "array([3.94836219, 2.99899521, 0.10411352])"
      ]
     },
     "execution_count": 31,
     "metadata": {},
     "output_type": "execute_result"
    }
   ],
   "source": [
    "popt"
   ]
  },
  {
   "cell_type": "code",
   "execution_count": 32,
   "id": "b03d64f3",
   "metadata": {},
   "outputs": [],
   "source": [
    "A,w,phi = popt"
   ]
  },
  {
   "cell_type": "code",
   "execution_count": 36,
   "id": "08d5e569",
   "metadata": {},
   "outputs": [
    {
     "data": {
      "text/plain": [
       "2.998995205451252"
      ]
     },
     "execution_count": 36,
     "metadata": {},
     "output_type": "execute_result"
    }
   ],
   "source": [
    "w"
   ]
  },
  {
   "cell_type": "code",
   "execution_count": 37,
   "id": "571b8970",
   "metadata": {},
   "outputs": [
    {
     "data": {
      "text/plain": [
       "array([[ 2.61882717e-03, -4.94131505e-06,  3.47404558e-05],\n",
       "       [-4.94131505e-06,  1.85637335e-05, -9.60755036e-05],\n",
       "       [ 3.47404558e-05, -9.60755036e-05,  6.63423791e-04]])"
      ]
     },
     "execution_count": 37,
     "metadata": {},
     "output_type": "execute_result"
    }
   ],
   "source": [
    "pcov #Covariance matrix"
   ]
  },
  {
   "cell_type": "code",
   "execution_count": 38,
   "id": "199c9a37",
   "metadata": {},
   "outputs": [
    {
     "data": {
      "text/plain": [
       "array([2.61882717e-03, 1.85637335e-05, 6.63423791e-04])"
      ]
     },
     "execution_count": 38,
     "metadata": {},
     "output_type": "execute_result"
    }
   ],
   "source": [
    "np.diag(pcov) #Show Variance A, w, phi"
   ]
  },
  {
   "cell_type": "code",
   "execution_count": 40,
   "id": "ebda48a1",
   "metadata": {},
   "outputs": [
    {
     "data": {
      "text/plain": [
       "array([0.05117448, 0.00430857, 0.02575701])"
      ]
     },
     "execution_count": 40,
     "metadata": {},
     "output_type": "execute_result"
    }
   ],
   "source": [
    "np.sqrt(np.diag(pcov)) #show error of A ,w, phi"
   ]
  },
  {
   "cell_type": "code",
   "execution_count": 34,
   "id": "6e395b1f",
   "metadata": {},
   "outputs": [],
   "source": [
    "t = np.linspace(0,10,100)\n",
    "y=func(t,A,w,phi)"
   ]
  },
  {
   "cell_type": "code",
   "execution_count": 35,
   "id": "e2665f20",
   "metadata": {},
   "outputs": [
    {
     "data": {
      "text/plain": [
       "[<matplotlib.lines.Line2D at 0x215a17845e0>]"
      ]
     },
     "execution_count": 35,
     "metadata": {},
     "output_type": "execute_result"
    },
    {
     "data": {
      "image/png": "[encoded data removed]",
      "text/plain": [
       "<Figure size 432x288 with 1 Axes>"
      ]
     },
     "metadata": {
      "needs_background": "light"
     },
     "output_type": "display_data"
    }
   ],
   "source": [
    "plt.scatter(t_data,y_data)\n",
    "plt.plot(t,y)"
   ]
  },
  {
   "cell_type": "markdown",
   "id": "09d800fc",
   "metadata": {},
   "source": [
    "The parameters"
   ]
  },
  {
   "cell_type": "code",
   "execution_count": 41,
   "id": "fc9cc775",
   "metadata": {},
   "outputs": [
    {
     "data": {
      "text/plain": [
       "array([3.94836219, 2.99899521, 0.10411352])"
      ]
     },
     "execution_count": 41,
     "metadata": {},
     "output_type": "execute_result"
    }
   ],
   "source": [
    "popt"
   ]
  },
  {
   "cell_type": "code",
   "execution_count": 42,
   "id": "73bd6402",
   "metadata": {},
   "outputs": [
    {
     "data": {
      "text/plain": [
       "array([0.05117448, 0.00430857, 0.02575701])"
      ]
     },
     "execution_count": 42,
     "metadata": {},
     "output_type": "execute_result"
    }
   ],
   "source": [
    "np.sqrt(np.diag(pcov))"
   ]
  },
  {
   "cell_type": "markdown",
   "id": "190c1e11",
   "metadata": {},
   "source": [
    "<h3>Special Function</h3>\n",
    "<p>Legendre Polynomials $P_l(x)$: satisfy $(1-x^2)y'' -2xy'+l(l+1)y = 0$\n",
    "\n",
    "The angular component of the spherical Schrodinger Equation which permits non-infinite solutions"
   ]
  },
  {
   "cell_type": "code",
   "execution_count": 43,
   "id": "c9b52ad5",
   "metadata": {},
   "outputs": [
    {
     "data": {
      "image/png": "[encoded data removed]",
      "text/plain": [
       "<Figure size 432x288 with 1 Axes>"
      ]
     },
     "metadata": {
      "needs_background": "light"
     },
     "output_type": "display_data"
    }
   ],
   "source": [
    "from scipy.special import legendre\n",
    "x = np.linspace(0,1,100)\n",
    "plt.plot(x,legendre(6)(x))\n",
    "plt.show()"
   ]
  },
  {
   "cell_type": "code",
   "execution_count": 44,
   "id": "43b4cefa",
   "metadata": {},
   "outputs": [
    {
     "data": {
      "text/plain": [
       "poly1d([ 1.44375000e+01,  0.00000000e+00, -1.96875000e+01,  1.60288449e-15,\n",
       "        6.56250000e+00,  0.00000000e+00, -3.12500000e-01])"
      ]
     },
     "execution_count": 44,
     "metadata": {},
     "output_type": "execute_result"
    }
   ],
   "source": [
    "legendre(6)"
   ]
  },
  {
   "cell_type": "markdown",
   "id": "efddda51",
   "metadata": {},
   "source": [
    "\n",
    "Bessel functions $J_{\\alpha}(x)$: satisfy $x^2 y'' + xy' + (x^2-\\alpha^2)y = 0$\n",
    "\n",
    "Laplace's Equation in Polar Coordinates"
   ]
  },
  {
   "cell_type": "code",
   "execution_count": 45,
   "id": "db1a626e",
   "metadata": {},
   "outputs": [
    {
     "data": {
      "image/png": "[encoded data removed]",
      "text/plain": [
       "<Figure size 432x288 with 1 Axes>"
      ]
     },
     "metadata": {
      "needs_background": "light"
     },
     "output_type": "display_data"
    }
   ],
   "source": [
    "from scipy.special import jv\n",
    "x = np.linspace(0,10,100)\n",
    "plt.plot(x,jv(3,x))\n",
    "plt.show()"
   ]
  },
  {
   "cell_type": "markdown",
   "id": "138bb72e",
   "metadata": {},
   "source": [
    "<h2> Calculus"
   ]
  },
  {
   "cell_type": "markdown",
   "id": "cb00bfd5",
   "metadata": {},
   "source": [
    "<h2> Differentiation"
   ]
  },
  {
   "cell_type": "code",
   "execution_count": 46,
   "id": "e4321b94",
   "metadata": {},
   "outputs": [],
   "source": [
    "from scipy.misc import derivative"
   ]
  },
  {
   "cell_type": "code",
   "execution_count": 47,
   "id": "5750d1ab",
   "metadata": {},
   "outputs": [],
   "source": [
    "def f(x):\n",
    "    return x**2*np.sin(2*x)*np.exp(-x)\n",
    "x = np.linspace(0,1,100)"
   ]
  },
  {
   "cell_type": "code",
   "execution_count": 49,
   "id": "a65c4dcd",
   "metadata": {},
   "outputs": [
    {
     "data": {
      "text/plain": [
       "array([2.00000000e-12, 6.03920829e-04, 2.38251311e-03, 5.28577629e-03,\n",
       "       9.26344114e-03, 1.42650411e-02, 2.02399819e-02, 2.71376096e-02,\n",
       "       3.49072761e-02, 4.34984041e-02, 5.28605490e-02, 6.29434594e-02,\n",
       "       7.36971364e-02, 8.50718897e-02, 9.70183930e-02, 1.09487737e-01,\n",
       "       1.22431481e-01, 1.35801703e-01, 1.49551043e-01, 1.63632755e-01,\n",
       "       1.78000746e-01, 1.92609622e-01, 2.07414723e-01, 2.22372164e-01,\n",
       "       2.37438874e-01, 2.52572626e-01, 2.67732071e-01, 2.82876773e-01,\n",
       "       2.97967232e-01, 3.12964916e-01, 3.27832284e-01, 3.42532814e-01,\n",
       "       3.57031020e-01, 3.71292476e-01, 3.85283835e-01, 3.98972845e-01,\n",
       "       4.12328366e-01, 4.25320382e-01, 4.37920015e-01, 4.50099539e-01,\n",
       "       4.61832383e-01, 4.73093145e-01, 4.83857594e-01, 4.94102681e-01,\n",
       "       5.03806534e-01, 5.12948470e-01, 5.21508990e-01, 5.29469779e-01,\n",
       "       5.36813708e-01, 5.43524827e-01, 5.49588364e-01, 5.54990719e-01,\n",
       "       5.59719457e-01, 5.63763301e-01, 5.67112124e-01, 5.69756939e-01,\n",
       "       5.71689887e-01, 5.72904229e-01, 5.73394330e-01, 5.73155647e-01,\n",
       "       5.72184714e-01, 5.70479129e-01, 5.68037535e-01, 5.64859605e-01,\n",
       "       5.60946025e-01, 5.56298473e-01, 5.50919604e-01, 5.44813027e-01,\n",
       "       5.37983288e-01, 5.30435846e-01, 5.22177054e-01, 5.13214136e-01,\n",
       "       5.03555166e-01, 4.93209043e-01, 4.82185471e-01, 4.70494932e-01,\n",
       "       4.58148665e-01, 4.45158639e-01, 4.31537532e-01, 4.17298703e-01,\n",
       "       4.02456166e-01, 3.87024571e-01, 3.71019170e-01, 3.54455799e-01,\n",
       "       3.37350847e-01, 3.19721232e-01, 3.01584376e-01, 2.82958176e-01,\n",
       "       2.63860984e-01, 2.44311574e-01, 2.24329120e-01, 2.03933168e-01,\n",
       "       1.83143614e-01, 1.61980674e-01, 1.40464859e-01, 1.18616951e-01,\n",
       "       9.64579793e-02, 7.40091897e-02, 5.12920252e-02, 2.83280979e-02])"
      ]
     },
     "execution_count": 49,
     "metadata": {},
     "output_type": "execute_result"
    }
   ],
   "source": [
    "derivative(f,x, dx=1e-6)"
   ]
  },
  {
   "cell_type": "code",
   "execution_count": 52,
   "id": "411a25ab",
   "metadata": {},
   "outputs": [
    {
     "data": {
      "text/plain": [
       "[<matplotlib.lines.Line2D at 0x215a1ec7ac0>]"
      ]
     },
     "execution_count": 52,
     "metadata": {},
     "output_type": "execute_result"
    },
    {
     "data": {
      "image/png": "[encoded data removed]",
      "text/plain": [
       "<Figure size 432x288 with 1 Axes>"
      ]
     },
     "metadata": {
      "needs_background": "light"
     },
     "output_type": "display_data"
    }
   ],
   "source": [
    "plt.plot(x,f(x))\n",
    "plt.plot(x,derivative(f,x, dx=1e-6))\n",
    "plt.plot(x,derivative(f,x, dx=1e-6, n=2))\n"
   ]
  },
  {
   "cell_type": "markdown",
   "id": "8e5b224d",
   "metadata": {},
   "source": [
    "<h3>Integration"
   ]
  },
  {
   "cell_type": "markdown",
   "id": "bc662c56",
   "metadata": {},
   "source": [
    "Single integrals\n",
    "\n",
    "$$ \\int_0^{1} x^2 \\sin(2x) e^{-x} dx $$"
   ]
  },
  {
   "cell_type": "code",
   "execution_count": 55,
   "id": "b8d759f2",
   "metadata": {},
   "outputs": [],
   "source": [
    "from scipy.integrate import quad\n",
    "integrand = lambda x:x**2*np.sin(x)*np.exp(-x)\n",
    "integral, integral_error = quad(integrand,0,1) #0,1 are limits of integral "
   ]
  },
  {
   "cell_type": "code",
   "execution_count": 56,
   "id": "31c286c5",
   "metadata": {},
   "outputs": [
    {
     "data": {
      "text/plain": [
       "1.1376208786903388e-15"
      ]
     },
     "execution_count": 56,
     "metadata": {},
     "output_type": "execute_result"
    }
   ],
   "source": [
    "integral_error"
   ]
  },
  {
   "cell_type": "markdown",
   "id": "80af231e",
   "metadata": {},
   "source": [
    "Double integrals\n",
    "\n",
    "$$ \\int_{0}^{1} \\int_{-x}^{x^2} \\sin(x+y^2) dy dx $$"
   ]
  },
  {
   "cell_type": "code",
   "execution_count": 60,
   "id": "ec539db5",
   "metadata": {},
   "outputs": [],
   "source": [
    "from scipy.integrate import dblquad\n",
    "integrand = lambda x,y: np.sin(x+y**2)\n",
    "lwr_y = lambda x:-x\n",
    "upr_y = lambda x:x**2\n",
    "integral, integral_error = dblquad(integrand,0,1,lwr_y,upr_y)"
   ]
  },
  {
   "cell_type": "code",
   "execution_count": 62,
   "id": "6e7f5529",
   "metadata": {},
   "outputs": [
    {
     "data": {
      "text/plain": [
       "1.5634600713498928e-14"
      ]
     },
     "execution_count": 62,
     "metadata": {},
     "output_type": "execute_result"
    }
   ],
   "source": [
    "integral_error"
   ]
  },
  {
   "cell_type": "code",
   "execution_count": null,
   "id": "3b205f87",
   "metadata": {},
   "outputs": [],
   "source": []
  }
 ],
 "metadata": {
  "kernelspec": {
   "display_name": "Python 3",
   "language": "python",
   "name": "python3"
  },
  "language_info": {
   "codemirror_mode": {
    "name": "ipython",
    "version": 3
   },
   "file_extension": ".py",
   "mimetype": "text/x-python",
   "name": "python",
   "nbconvert_exporter": "python",
   "pygments_lexer": "ipython3",
   "version": "3.8.8"
  }
 },
 "nbformat": 4,
 "nbformat_minor": 5
}
